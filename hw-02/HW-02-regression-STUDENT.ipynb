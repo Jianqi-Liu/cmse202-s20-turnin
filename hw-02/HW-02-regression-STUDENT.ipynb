{
 "cells": [
  {
   "cell_type": "markdown",
   "metadata": {},
   "source": [
    "# CMSE Homework 02\n",
    "\n",
    "<img src=\"https://imgs.xkcd.com/comics/extrapolating.png\" width=400px>\n",
    "\n",
    "We are supposed to be about building models for data in CMSE202. Here we are going to practice some very basic model building, linear regression, using data from a spreadsheet (building on our work from HW-01)\n",
    "By the end of this assignment, you should be able to:\n",
    "\n",
    "* Use Git to create a repository, track changes to the files within the repository, and push those changes to a remote repository.\n",
    "* Get more experience with Pandas using excel spread sheets.\n",
    "* Make plots of your model using matplotlib.\n",
    "* Use some new libraries to help develop models of your data\n",
    "\n",
    "### Assignment instructions\n",
    "\n",
    "Work through the following assignment, making sure to follow all of the directions and answer all of the questions.\n",
    "\n",
    "There are 25 points possible on this assignment. Point values for each part are included in the section headers.\n",
    "\n",
    "This assignment is due roughly two weeks from now at 11:59 pm on Friday, Frebruaray 7th. It should be uploaded into the \"Homework Assignments\" submission folder for Homework #2 in your D2L webpage. Submission instructions can be found at the end of the notebook.\n",
    "\n",
    "**Hint**: It is possible you are asked to do something you are not familiar with. That's why you have internet access. Do some smart searches and see what you can find! \n",
    "\n",
    "As an aside, a version of this homework was used as a final exam in the course. "
   ]
  },
  {
   "cell_type": "markdown",
   "metadata": {},
   "source": [
    "---\n",
    "## Part 1: Setting up a repository for tracking changes (3 points)\n",
    "\n",
    "For this assignment, you're going to add it to the cmse202-s20-turnin repository you created in class so that you can track your progress on the assignment and preserve the final version that you turn in. In order to do this you need to:\n",
    "\n",
    "* Navigate to your `cmse202-s20-turnin` repository and create a new directory called `hw-02`.\n",
    "* Move this notebook into that new directory in your repository, then add it and commit it to your repository.\n",
    " * Finally, to test that everything is working, \"git push\" the file so that it ends up in your GitHub repository.\n",
    "\n",
    "Important: Make sure you've added your PTA as a collaborators\\ to your \"turnin\" respository with \"Read\" access so that we can see your assignment.\n",
    "\n",
    "* Section 001: nchamusah14\n",
    "* Section 002: nchamusah14\n",
    "* Section 003: genster6\n",
    "\n",
    "Also important: Make sure that the version of this notebook that you are working on is the same one that you just added to your repository! If you are working on a different copy of the noteobok, none of your changes will be tracked.\n",
    "\n",
    "If everything went as intended, the file should now show up on your GitHub account in the `cmse202-s20-turnin` repository under the `hw-02` directory that you just created. Periodically, you'll be asked to commit your changes to the repository and push them to the remote GitHub location. Of course, you can always commit your changes more often than that, if you wish. It can be good to get into a habit of committing your changes any time you make a significant modification, or when you stop working on the project for a bit."
   ]
  },
  {
   "cell_type": "markdown",
   "metadata": {},
   "source": [
    "## Part 2: Working with Example Data (6 points)\n",
    "\n",
    "You all want to eat a healthy breakfast, don't you? Well, this is a list of cereals and their various \"properties\" such as sodium content, fat content, etc. Associated with each cereal is a rating indicating its healthfullness. There are 77 cereals and 16 fields associated with each cereal in a provided excel spreadsheet called `cereal.xlsx`. This is the data you will work with.\n",
    "\n",
    "For this homework we ask you to develop a model, based on linear regression, of some of the cereal properties and their ratings\n",
    "\n",
    "**Important Note** It is possible that you could modify the spreadsheet to make it easier to work with. **Don't** We will test your code on the original spreadsheet provided. Any changes should be made programmatically."
   ]
  },
  {
   "cell_type": "markdown",
   "metadata": {},
   "source": [
    "### Part 2.1  Reading in the spreadsheet (3 points)\n",
    "\n",
    "\n",
    "Take a look at the spreadsheet provided using excel and read it into a dataframe. Here are some features you should deal with when you load it (much as you did in HW-01)\n",
    "\n",
    "* The 2nd row contains information about the type of data in the column below. It should be removed when you read the sheet into a dataframe \n",
    "* Some of the data is `Categorical`, that is the column has data which is not numeric. Those columns should be removed when you read in the sheet to a dataframe\n",
    "\n",
    "The column with the header `rating` is the dependent variable, indicating healthfulness. \n",
    "\n",
    "Having read in all the data, in data provide the following information concerning `rating`:\n",
    "\n",
    "* the max\n",
    "* the min\n",
    "* the mean\n",
    "* the median\n",
    "* a histogram (using any tool you like) of the distribution of `rating` values"
   ]
  },
  {
   "cell_type": "code",
   "execution_count": 13,
   "metadata": {},
   "outputs": [
    {
     "data": {
      "text/html": [
       "<div>\n",
       "<style scoped>\n",
       "    .dataframe tbody tr th:only-of-type {\n",
       "        vertical-align: middle;\n",
       "    }\n",
       "\n",
       "    .dataframe tbody tr th {\n",
       "        vertical-align: top;\n",
       "    }\n",
       "\n",
       "    .dataframe thead th {\n",
       "        text-align: right;\n",
       "    }\n",
       "</style>\n",
       "<table border=\"1\" class=\"dataframe\">\n",
       "  <thead>\n",
       "    <tr style=\"text-align: right;\">\n",
       "      <th></th>\n",
       "      <th>name</th>\n",
       "      <th>calories</th>\n",
       "      <th>protein</th>\n",
       "      <th>fat</th>\n",
       "      <th>sodium</th>\n",
       "      <th>fiber</th>\n",
       "      <th>carbo</th>\n",
       "      <th>sugars</th>\n",
       "      <th>potass</th>\n",
       "      <th>vitamins</th>\n",
       "      <th>shelf</th>\n",
       "      <th>weight</th>\n",
       "      <th>cups</th>\n",
       "      <th>rating</th>\n",
       "    </tr>\n",
       "  </thead>\n",
       "  <tbody>\n",
       "    <tr>\n",
       "      <th>0</th>\n",
       "      <td>100% Bran</td>\n",
       "      <td>70</td>\n",
       "      <td>4</td>\n",
       "      <td>1</td>\n",
       "      <td>130</td>\n",
       "      <td>10.0</td>\n",
       "      <td>5.0</td>\n",
       "      <td>6</td>\n",
       "      <td>280</td>\n",
       "      <td>25</td>\n",
       "      <td>3</td>\n",
       "      <td>1.0</td>\n",
       "      <td>0.33</td>\n",
       "      <td>68.402973</td>\n",
       "    </tr>\n",
       "    <tr>\n",
       "      <th>1</th>\n",
       "      <td>100% Natural Bran</td>\n",
       "      <td>120</td>\n",
       "      <td>3</td>\n",
       "      <td>5</td>\n",
       "      <td>15</td>\n",
       "      <td>2.0</td>\n",
       "      <td>8.0</td>\n",
       "      <td>8</td>\n",
       "      <td>135</td>\n",
       "      <td>0</td>\n",
       "      <td>3</td>\n",
       "      <td>1.0</td>\n",
       "      <td>1.00</td>\n",
       "      <td>33.983679</td>\n",
       "    </tr>\n",
       "    <tr>\n",
       "      <th>2</th>\n",
       "      <td>All-Bran</td>\n",
       "      <td>70</td>\n",
       "      <td>4</td>\n",
       "      <td>1</td>\n",
       "      <td>260</td>\n",
       "      <td>9.0</td>\n",
       "      <td>7.0</td>\n",
       "      <td>5</td>\n",
       "      <td>320</td>\n",
       "      <td>25</td>\n",
       "      <td>3</td>\n",
       "      <td>1.0</td>\n",
       "      <td>0.33</td>\n",
       "      <td>59.425505</td>\n",
       "    </tr>\n",
       "    <tr>\n",
       "      <th>3</th>\n",
       "      <td>All-Bran with Extra Fiber</td>\n",
       "      <td>50</td>\n",
       "      <td>4</td>\n",
       "      <td>0</td>\n",
       "      <td>140</td>\n",
       "      <td>14.0</td>\n",
       "      <td>8.0</td>\n",
       "      <td>0</td>\n",
       "      <td>330</td>\n",
       "      <td>25</td>\n",
       "      <td>3</td>\n",
       "      <td>1.0</td>\n",
       "      <td>0.50</td>\n",
       "      <td>93.704912</td>\n",
       "    </tr>\n",
       "    <tr>\n",
       "      <th>4</th>\n",
       "      <td>Almond Delight</td>\n",
       "      <td>110</td>\n",
       "      <td>2</td>\n",
       "      <td>2</td>\n",
       "      <td>200</td>\n",
       "      <td>1.0</td>\n",
       "      <td>14.0</td>\n",
       "      <td>8</td>\n",
       "      <td>-1</td>\n",
       "      <td>25</td>\n",
       "      <td>3</td>\n",
       "      <td>1.0</td>\n",
       "      <td>0.75</td>\n",
       "      <td>34.384843</td>\n",
       "    </tr>\n",
       "  </tbody>\n",
       "</table>\n",
       "</div>"
      ],
      "text/plain": [
       "                        name  calories  protein  fat  sodium  fiber  carbo  \\\n",
       "0                  100% Bran        70        4    1     130   10.0    5.0   \n",
       "1          100% Natural Bran       120        3    5      15    2.0    8.0   \n",
       "2                   All-Bran        70        4    1     260    9.0    7.0   \n",
       "3  All-Bran with Extra Fiber        50        4    0     140   14.0    8.0   \n",
       "4             Almond Delight       110        2    2     200    1.0   14.0   \n",
       "\n",
       "   sugars  potass  vitamins  shelf  weight  cups     rating  \n",
       "0       6     280        25      3     1.0  0.33  68.402973  \n",
       "1       8     135         0      3     1.0  1.00  33.983679  \n",
       "2       5     320        25      3     1.0  0.33  59.425505  \n",
       "3       0     330        25      3     1.0  0.50  93.704912  \n",
       "4       8      -1        25      3     1.0  0.75  34.384843  "
      ]
     },
     "execution_count": 13,
     "metadata": {},
     "output_type": "execute_result"
    }
   ],
   "source": [
    "## your code here\n",
    "import pandas as pd\n",
    "import matplotlib.mlab as mlab  \n",
    "import matplotlib.pyplot as plt \n",
    "%matplotlib inline\n",
    "columns = list(set(range(17))-set([1,2]))\n",
    "cereal = pd.read_excel('cereal.xlsx',skiprows=[1],usecols=columns)\n",
    "cereal.head()"
   ]
  },
  {
   "cell_type": "code",
   "execution_count": 14,
   "metadata": {},
   "outputs": [
    {
     "name": "stdout",
     "output_type": "stream",
     "text": [
      "The max rating is 93.704912\n"
     ]
    }
   ],
   "source": [
    "print('The max rating is {0}'.format(max(cereal['rating'])))"
   ]
  },
  {
   "cell_type": "code",
   "execution_count": 15,
   "metadata": {},
   "outputs": [
    {
     "name": "stdout",
     "output_type": "stream",
     "text": [
      "The min rating is 18.042851\n"
     ]
    }
   ],
   "source": [
    "print('The min rating is {0}'.format(min(cereal['rating'])))"
   ]
  },
  {
   "cell_type": "code",
   "execution_count": 16,
   "metadata": {},
   "outputs": [
    {
     "name": "stdout",
     "output_type": "stream",
     "text": [
      "The mean rating is 42.66570498701299\n"
     ]
    }
   ],
   "source": [
    "print('The mean rating is {0}'.format(cereal['rating'].mean()))"
   ]
  },
  {
   "cell_type": "code",
   "execution_count": 17,
   "metadata": {},
   "outputs": [
    {
     "name": "stdout",
     "output_type": "stream",
     "text": [
      "The median rating is 40.400208\n"
     ]
    }
   ],
   "source": [
    "print('The median rating is {0}'.format(cereal['rating'].median()))"
   ]
  },
  {
   "cell_type": "code",
   "execution_count": 18,
   "metadata": {},
   "outputs": [
    {
     "data": {
      "text/plain": [
       "<matplotlib.axes._subplots.AxesSubplot at 0x7fb2eb9ef128>"
      ]
     },
     "execution_count": 18,
     "metadata": {},
     "output_type": "execute_result"
    },
    {
     "data": {
      "image/png": "[encoded data removed]",
      "text/plain": [
       "<Figure size 1440x720 with 1 Axes>"
      ]
     },
     "metadata": {
      "needs_background": "light"
     },
     "output_type": "display_data"
    }
   ],
   "source": [
    "plt.figure(figsize=(20,10))\n",
    "cereal['rating'].plot(kind='bar')"
   ]
  },
  {
   "cell_type": "markdown",
   "metadata": {},
   "source": [
    "### Part 2.2 Clean the Data (3 points)\n",
    "\n",
    "There are some locations in the data where a `-1` value is used. This indicates that there is no data available for that particular cell (it was missing in the data, not entered properly, something). \n",
    "\n",
    "There are various approaches we could take, but for now we are going to ignore any row (any particular cereal) that has a `-1` value for one of the columns. That is, we are going to drop that row. You can do this any way you feel comfortable, but below is a **suggestion** on how to approach it.\n",
    "\n",
    "Make a new data frame called `clean` that has any row with a `-1` removed. Here is a general strategy (but feel free to do as you like):\n",
    "* iterate through the rows\n",
    "* iterate through each cell in a row\n",
    "* if a cell has a `-1` value remember the index of that row (in a list of `bad_rows`)\n",
    "* after you have collected all the bad rows (and make sure you have only one index for a row, perhaps there are multiple bad values in one row), use the `drop` method and create the now cleaned data frame\n",
    "\n",
    "After you are done, print the now cleaned data frame (show the data frame)"
   ]
  },
  {
   "cell_type": "code",
   "execution_count": null,
   "metadata": {},
   "outputs": [],
   "source": [
    "## your code here"
   ]
  },
  {
   "cell_type": "markdown",
   "metadata": {},
   "source": [
    "## Part 3: Analyzing the data (10 points)\n",
    "\n",
    "\n",
    "### Part 3.1 Correlation (3 pts)\n",
    "We now have clean data with only numeric elements (except for the cereal names of course). Lets make a heat map of the correlations between the remaining fields of our clean data.\n",
    "\n",
    "As hints:\n",
    "* pandas has the ability to generate the correlation matrix\n",
    "* seaborn is a package that can help with heatmaps\n",
    "\n",
    "* You may have to do a little work to make the heatmap readable (big enough, fonts clear, etc.). \n",
    "* The correlation values should show up in the heat map. \n",
    "* You can round to make the values readable.\n"
   ]
  },
  {
   "cell_type": "code",
   "execution_count": null,
   "metadata": {},
   "outputs": [],
   "source": [
    "## your code here"
   ]
  },
  {
   "cell_type": "markdown",
   "metadata": {},
   "source": [
    "### 3.2 Best independent variable (1 pt)\n",
    "\n",
    "The correlation matrix values range from 1.0 (a value perfectly correlated) to -1.0 (perfectly anti-correlated). We would like to find a variable that is best correlated (or anti-correlated) with `rating`. Looking at our heatmap, please select the independent variable that has the best correlation with the dependent variable `rating`. Please **write in the cell below** that variable you will work with below **and explain why**"
   ]
  },
  {
   "cell_type": "markdown",
   "metadata": {},
   "source": [
    "<img src=\"https://3.bp.blogspot.com/-i-4_PJncM9Y/UPKZWigjWtI/AAAAAAAAAGw/RcMBVqvETeE/s1600/yellow_star-1331px.png\" align=\"left\" width=35px> **Your answer in this cell**: "
   ]
  },
  {
   "cell_type": "markdown",
   "metadata": {},
   "source": [
    "Having selected an independent variable, let us do a linear regression using your selected variable (lets just call it `x`) and the `rating` variable (let's just call that `y`). While you can do as you wish, I would suggest working with various submodules of `sklearn`\n",
    "\n",
    "### Part 3.3 (3 points)\n",
    "\n",
    "Create two new `DataFrame` using  your selected `x` and `y` values from above, create a linear regression model of the data and print the slope and intercept values you found"
   ]
  },
  {
   "cell_type": "code",
   "execution_count": null,
   "metadata": {},
   "outputs": [],
   "source": [
    "# your code here"
   ]
  },
  {
   "cell_type": "markdown",
   "metadata": {},
   "source": [
    "### Part 3.4 (3 points)\n",
    "\n",
    "- For the `x` data, use the linear regression model to create a prediction set, call it `y_predict`. \n",
    "- Using the `y` and `y_predict` values, report the `mean squared error` and the $r^{2}$ value (also called the `coefficient of determination`). \n",
    "   - sklearn can help with these two values, look it up\n",
    "- Plot the `x` and `y` cleaned data from the spreadsheet **as well as** the linear regression line"
   ]
  },
  {
   "cell_type": "code",
   "execution_count": null,
   "metadata": {},
   "outputs": [],
   "source": [
    "## your code here"
   ]
  },
  {
   "cell_type": "markdown",
   "metadata": {},
   "source": [
    "<img src=\"https://3.bp.blogspot.com/-i-4_PJncM9Y/UPKZWigjWtI/AAAAAAAAAGw/RcMBVqvETeE/s1600/yellow_star-1331px.png\" align=\"left\" width=35px> **Time to push your changes to your github repository and then carry on**"
   ]
  },
  {
   "cell_type": "markdown",
   "metadata": {},
   "source": [
    "## Part 4: Doing it yourself (6  points)\n",
    "\n",
    "\n",
    "### Part 4.1 Least Squares yourself (3 points)\n",
    "Let's do some of that work ourselves to see if we can reproduce those results. We are going do the math for linear regression and see if our math agrees with the tools we used above. Below is the math. We'll use the same `x` and `y` variables you chose above.\n",
    "\n",
    "Let's assume that the symbols $\\bar{x}$ and $\\bar{y}$ represent the means of those arrays and that `n` is the number of elements.\n",
    "\n",
    "Here's the calculation for the slope\n",
    "$$ slope = \\frac {\\sum_{i=1}^{n}{(x_i - \\bar{x}) * (y_i - \\bar{y}) } } {\\sum_{i=1}^{n}{(x_i - \\bar{x})^2}}$$\n",
    "\n",
    "Here's the calculation for the intercept\n",
    "$$ intercept = \\bar{y} - slope*\\bar{x} $$\n"
   ]
  },
  {
   "cell_type": "markdown",
   "metadata": {},
   "source": [
    "Using the same independent variable and dependent variables above, calculate the slope and intercept of the best fit least squares using the formula provided. Print:\n",
    "- the slope\n",
    "- the intercept\n",
    "- plot the same `x`,`y` data you used above and \n",
    "- plot the new regression line through that data using your **calculated slope and intercept**"
   ]
  },
  {
   "cell_type": "code",
   "execution_count": null,
   "metadata": {},
   "outputs": [],
   "source": [
    "## your code here"
   ]
  },
  {
   "cell_type": "markdown",
   "metadata": {},
   "source": [
    "### Part 4.2 Coefficient of Determination and Mean-Squared Error (3 points)\n",
    "\n",
    "The coefficient of determination calculations are as follows:\n",
    "\n",
    "Total sum of squares is:\n",
    "$$ tsum = \\sum_{i=1}^{n}{(y_i - \\bar{y})^{2}} $$\n",
    "\n",
    "Residual sum of squares is:\n",
    "$$ residual = \\sum_{i=1}^{n}{(y_i - y_{predicted})}^{2} $$\n",
    "\n",
    "Mean-squared error is just $$ MSE = \\frac{1}{n} * residual$$ or $$ MSE = \\frac{1}{n}\\sum_{i=1}^{n}{(y_i - y_{predicted})}^{2} $$\n",
    "\n",
    "The coefficient of determination is:\n",
    "$$ cod = 1 - \\frac{residual}{tsum} $$\n",
    "\n",
    "Using the same `x` and `y` data you used above, develop a new `y_predict`  based on your **calculated slope and intercept** and provide the coefficient of determination and mean-squared error of your calculated regression model."
   ]
  },
  {
   "cell_type": "code",
   "execution_count": null,
   "metadata": {},
   "outputs": [],
   "source": [
    "## your code here"
   ]
  },
  {
   "cell_type": "markdown",
   "metadata": {},
   "source": [
    "## You're Finished!\n",
    "\n",
    "<img src=\"https://3.bp.blogspot.com/-i-4_PJncM9Y/UPKZWigjWtI/AAAAAAAAAGw/RcMBVqvETeE/s1600/yellow_star-1331px.png\" align=\"left\" width=35px> Time to push your changes to your github repository when you finish\n",
    "\n",
    "\n",
    "<img src=\"https://3.bp.blogspot.com/-i-4_PJncM9Y/UPKZWigjWtI/AAAAAAAAAGw/RcMBVqvETeE/s1600/yellow_star-1331px.png\" align=\"left\" width=35px> Make sure you also turn in your completed notebook to the D2L assignment labeled `Homework 02`. We will be checking github but grading the notebooks submitted to D2L.\n",
    "\n"
   ]
  }
 ],
 "metadata": {
  "kernelspec": {
   "display_name": "Python 3",
   "language": "python",
   "name": "python3"
  },
  "language_info": {
   "codemirror_mode": {
    "name": "ipython",
    "version": 3
   },
   "file_extension": ".py",
   "mimetype": "text/x-python",
   "name": "python",
   "nbconvert_exporter": "python",
   "pygments_lexer": "ipython3",
   "version": "3.7.3"
  }
 },
 "nbformat": 4,
 "nbformat_minor": 2
}
